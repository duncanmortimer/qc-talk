{
 "cells": [
  {
   "cell_type": "code",
   "execution_count": 1,
   "metadata": {},
   "outputs": [],
   "source": [
    "import numpy as np\n",
    "import pandas as pd\n",
    "import math\n",
    "\n",
    "from qiskit import ClassicalRegister, QuantumRegister\n",
    "from qiskit import QuantumCircuit, execute"
   ]
  },
  {
   "cell_type": "code",
   "execution_count": 2,
   "metadata": {},
   "outputs": [
    {
     "name": "stdout",
     "output_type": "stream",
     "text": [
      "{'01': 1024}\n"
     ]
    }
   ],
   "source": [
    "qr = QuantumRegister(2)\n",
    "cr = ClassicalRegister(2)\n",
    "qc = QuantumCircuit(qr, cr)\n",
    "qc.x(qr[0])\n",
    "\n",
    "qc.measure(qr, cr)\n",
    "\n",
    "job_sim = execute(qc, \"local_qasm_simulator\")\n",
    "sim_result = job_sim.result()\n",
    "\n",
    "print(sim_result.get_counts(qc))"
   ]
  },
  {
   "cell_type": "code",
   "execution_count": 3,
   "metadata": {},
   "outputs": [],
   "source": [
    "def ccz(circuit, q_reg):\n",
    "    circuit.h(q_reg[2])\n",
    "    circuit.ccx(q_reg[0], q_reg[1], q_reg[2])\n",
    "    circuit.h(q_reg[2])"
   ]
  },
  {
   "cell_type": "code",
   "execution_count": 4,
   "metadata": {},
   "outputs": [],
   "source": [
    "def oracle(circuit, q_reg, n):\n",
    "    if len(q_reg) != 3:\n",
    "        raise ValueError('This is a 3 qubit oracle only!')\n",
    "    if (n < 0) or (n > 7):\n",
    "        raise ValueError('3 qubits means 0 <= n <= 7')\n",
    "    \n",
    "    qbits_to_flip = [q_bit for flip_q, q_bit in zip('{0:b}'.format(n+8)[1:], q_reg)\n",
    "                     if int(flip_q) == 0]\n",
    "    \n",
    "    for qbit in qbits_to_flip:\n",
    "        circuit.x(qbit)\n",
    "    \n",
    "    ccz(circuit, q_reg)\n",
    "    \n",
    "    for qbit in qbits_to_flip:\n",
    "        circuit.x(qbit)"
   ]
  },
  {
   "cell_type": "code",
   "execution_count": 5,
   "metadata": {},
   "outputs": [],
   "source": [
    "def all_hs(circuit, q_reg):\n",
    "    for q_bit in q_reg:\n",
    "        circuit.h(q_bit)"
   ]
  },
  {
   "cell_type": "code",
   "execution_count": 6,
   "metadata": {},
   "outputs": [],
   "source": [
    "def diffusion_operator(circuit, q_reg):\n",
    "    all_hs(circuit, q_reg)\n",
    "    for q_bit in q_reg:\n",
    "        circuit.x(q_bit)\n",
    "    ccz(circuit, q_reg)\n",
    "    for q_bit in q_reg:\n",
    "        circuit.x(q_bit)\n",
    "    all_hs(circuit, q_reg)"
   ]
  },
  {
   "cell_type": "code",
   "execution_count": 28,
   "metadata": {},
   "outputs": [
    {
     "name": "stdout",
     "output_type": "stream",
     "text": [
      "{'000': 7, '001': 8, '010': 6, '011': 6, '100': 12, '101': 5, '110': 969, '111': 11}\n"
     ]
    }
   ],
   "source": [
    "qr = QuantumRegister(3)\n",
    "cr = ClassicalRegister(3)\n",
    "qc = QuantumCircuit(qr, cr)\n",
    "\n",
    "n = 3\n",
    "\n",
    "all_hs(qc, qr)\n",
    "\n",
    "for m in range(0, 2):\n",
    "    oracle(qc, qr, n)\n",
    "    diffusion_operator(qc, qr)\n",
    "\n",
    "qc.measure(qr, cr)\n",
    "\n",
    "job_sim = execute(qc, \"local_qasm_simulator\")\n",
    "sim_result = job_sim.result()\n",
    "\n",
    "print(sim_result.get_counts(qc))"
   ]
  }
 ],
 "metadata": {
  "kernelspec": {
   "display_name": "Python (qc-talk)",
   "language": "python",
   "name": "qc-talk"
  },
  "language_info": {
   "codemirror_mode": {
    "name": "ipython",
    "version": 3
   },
   "file_extension": ".py",
   "mimetype": "text/x-python",
   "name": "python",
   "nbconvert_exporter": "python",
   "pygments_lexer": "ipython3",
   "version": "3.6.5"
  }
 },
 "nbformat": 4,
 "nbformat_minor": 2
}
